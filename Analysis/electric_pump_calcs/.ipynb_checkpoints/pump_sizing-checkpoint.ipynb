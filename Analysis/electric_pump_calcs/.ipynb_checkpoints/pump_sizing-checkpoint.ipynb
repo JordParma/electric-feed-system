{
 "cells": [
  {
   "cell_type": "markdown",
   "metadata": {
    "collapsed": true
   },
   "source": [
    "# Electric Feed System Pump Size Estimates\n",
    "We're exploring the use of an all-electric pump for the propellant feed system. What follows is a preliminary pump sizing and requirements analysis to guide further inquiry.\n",
    "\n",
    "## Design Approach\n",
    "Turbomachines, contrary to popular belief, are laregly not powered by black magic. The process for determining pump requirements is a straight forward one. First we need to establish design goals. High efficiency, high performance, and minimum mass are desirable from a vehicle mass faction standpoint. But designs that increase efficiency and decrease mass can also increase pump-inlet pressure required to suppress cavitation, which can in turn lead to increases in propellant tank mass. Also we do not wish to compromise design simplicity, reliability, operational life, and cost. In some sense these are hard tradeoffs. So we should first define the relative importance/emphasis of these design goals.\n",
    "\n",
    "## Design Inputs\n",
    "Engine and vehicle requirements dictate the types, flow rates and pressure levels of the propellants that the pumps deliver to the engine thrust chamber. These are assumed to be given from an earlier and more fundamental analysis of vehicle design. The pumps must deliver propellant without requiring an inlet pressure greater that that allowed by other parts of the feed system. A pump operating under a specified condition (rotational speed and fluid angles of attack on internal surfaces) produce a constant-volume flow rate and constant head rise. To summarize the (given) inputs are propellant mass flow rate, pump pressure rise, pump inlet pressure, and physical and derived quantities such as propellant density and vapor pressure, volume flow rate and NPSH. Volumetric flow rate, Q, is given by\n",
    "\n",
    "$$\n",
    "Q = \\frac{\\dot{m}}{\\rho}\n",
    "$$\n",
    "\n",
    "where $\\dot{m}$ is the mass flow rate, and $\\rho$ is the fluid density.\n",
    "\n",
    "The pump head rise is given by\n",
    "\n",
    "$$\n",
    "H_p = \\frac{\\Delta p_p}{g_0 \\rho}\n",
    "$$\n",
    "\n",
    "where $\\Delta p_p$ is the required rise in pressure and $g_0$ is the gravitational acceleration.\n",
    "\n",
    "Available Net Positive Suction Head is given by \n",
    "\n",
    "$$\n",
    "NPSH_{available} = \\frac{p_i - p_v}{g_0 \\rho}\n",
    "$$\n",
    "\n",
    "Note that this formulation of $NPSH$ assumes that the elevation head (including the additional head due to acceleration of the launch vehicle) is small relative to the vapor pressure and tank pressure.\n",
    "\n",
    "Also note that due to the preponderence of barleycorn units used in hydraulic engineering this document will use them as well, both by convention, and also due to the fact that most vendor data sheets are provided in that unit system.\n",
    "\n",
    "\n",
    "## Useful Physical Properties of Propellants\n",
    "|         | density $\\rho$ [kg/m^3] | vapor pressure $p_v$ [Pa] |\n",
    "|-------- | ----------------------- | ---------------------------|\n",
    "| ethanol | 789                     | 8.84E3                     |\n",
    "| LOX     | 1141                    | 8.0E3                      |\n",
    "\n",
    "Vapor pressure of liquid oxygen has been interpolated from the following graph. Estimating the operating temperature of the rockets cryogenic system to be ~ -200&deg;C. [Note: we should add a graph for density as well]"
   ]
  },
  {
   "cell_type": "code",
   "execution_count": 39,
   "metadata": {
    "collapsed": false
   },
   "outputs": [
    {
     "data": {
      "image/png": "[encoded data removed]",
      "text/plain": [
       "<IPython.core.display.Image object>"
      ]
     },
     "execution_count": 39,
     "metadata": {},
     "output_type": "execute_result"
    }
   ],
   "source": [
    "from IPython.display import Image\n",
    "Image(filename='Oxygen_Vapor_Pressure.png') "
   ]
  },
  {
   "cell_type": "code",
   "execution_count": 40,
   "metadata": {
    "collapsed": false,
    "scrolled": false
   },
   "outputs": [
    {
     "name": "stdout",
     "output_type": "stream",
     "text": [
      "mass flow rate\n",
      "1.986 lbm/s (IPA)\n",
      "2.582 lbm/s (LOX) \n",
      "\n",
      "volumetric flow rate\n",
      "0.0403 ft^3/s (IPA)\n",
      "0.0362 ft^3/s (LOX) \n",
      "\n",
      "required pressure head\n",
      "1090.854 ft (IPA)\n",
      "754.324 ft (LOX) \n",
      "\n",
      "Net Positive Suction Head Available\n",
      "82.158 ft (IPA)\n",
      "29.673 ft (LOX)\n"
     ]
    }
   ],
   "source": [
    "import math as m\n",
    "\n",
    "#physical constants\n",
    "g_0 = 9.81                            # gravitational acceleration [m/s/s]\n",
    "R = 8.3145 # Universal gas constant [Pa*m^3/K*mol]\n",
    "\n",
    "# Propellant properties\n",
    "lox = {'M': 31.999 / 1000, # Molar mass [kg/mol]\n",
    "       'T_e': 90.2, # Propellant temperature [K]\n",
    "       'C_pl': 1.70 * 1000, # Liquid phase specific heat [J/kg*K]\n",
    "       'C_pv': 0.91 * 1000, # Vapor phase secific heat (constant pressure) [J/kg*K]\n",
    "       'h_v': 213.05 * 1000, # Heat of vaporization [J/kg]\n",
    "       'T_v': 90.2, # Vaporization temperature [K]\n",
    "       'R_p': R / (31.999 / 1000), # Specific gas constant \n",
    "       'p_t': (350+70) * 1.1 * 6894, # Propellant tank initial pressure [Pa]\n",
    "       'a': 1.382 / 10, # van der Wall constant A [Pa*m^6/mol^2]\n",
    "       'b': 0.03186 / 1000, # van der Wall constant B [m^3/mol]\n",
    "       'rho': 1141, # Density [kg/m^3]\n",
    "       'p_v': 101.4E3, # Operating point vapor pressure [Pa]\n",
    "       'name': 'lox'\n",
    "      }\n",
    "\n",
    "ipa = {'M': 60.1 / 1000, # Molar mass [kg/mol]\n",
    "       'T_e': 293, # Propellant temperature [K]\n",
    "       'C_pl': 7.25 * 1000 * (60.1 / 1000), # Liquid phase specific heat [J/kg*K]\n",
    "       'C_pv': 1.75 * 1000, # Vapor phase secific heat (constant pressure) [J/kg*K]\n",
    "       'h_v': 36800 * (60.1 / 1000), # Heat of vaporization [J/kg]\n",
    "       'T_v': 355.8, # Vaporization temperature [K]\n",
    "       'R_p': R / (60.1 / 1000), # Specific gas constant \n",
    "       'p_t': ((350 #Chamber pressure [psi]\n",
    "             + 145 # Regen pressure drop [psi]\n",
    "             + 70) # Injector pressure drop [psi]\n",
    "             * 1.1 * 6894), # Propellant tank initial pressure [Pa]\n",
    "       'a': 12.18 / 10, # van der Wall constant A [Pa*m^6/mol^2]\n",
    "       'b': 0.08407 / 1000, # van der Wall constant B [m^3/mol]\n",
    "       'rho': 789, # Density [kg/m^3]\n",
    "       'p_v': 8.84E3, # Operating point vapor pressure [Pa]\n",
    "       'name': 'ipa'\n",
    "      }\n",
    "\n",
    "# rocket model (assuming sea-level operation)\n",
    "isp = 246 * 0.90                          # specific impulse (sea-level, optimistic estimate) [s]\n",
    "f = 4.5E3                                 # thrust [N]\n",
    "mdot_t = f/(g_0 * isp)                    # total mass flowrate [kg/s]\n",
    "chamber_p= 350 * 6.895 * 1000             # chamber pressure (assumed to be 380 psi currently) [Pa] \n",
    "loss_factor = 1.15                        # estimate of line and injector losses\n",
    "OF = 1.3                                  # mixture ratio\n",
    "mdot_o = mdot_t / (1 + (1/OF))            # oxidizer mass flowrate [kg/s]\n",
    "mdot_f = mdot_t / (1 + OF)                # fuel mass flowrate [kg/s]\n",
    "p_i = 101.3E3*2                           # inlet pressure (currently 1 atm) [Pa]\n",
    "delta_p = chamber_p * loss_factor - p_i   # required pump discharge pressure [Pa]\n",
    "\n",
    "#barleycorn conversions\n",
    "g_0 = 32.2\n",
    "delta_p = delta_p * 0.000145038\n",
    "\n",
    "def freedom_units(prop):\n",
    "    rho = prop['rho'] * 0.062428\n",
    "    h_v = prop['p_v'] * 0.000145038 * 144 / rho\n",
    "    if prop == ipa:\n",
    "        mdot = mdot_f * 2.20462\n",
    "    elif prop == lox:\n",
    "        mdot = mdot_o * 2.20462\n",
    "    q = mdot / rho                      # volumetric flowrate [f^3/s]\n",
    "    h_p = 144 * delta_p / rho           # required head rise [ft]\n",
    "    h_i = p_i * 0.000145038 * 144 / rho # inlet head [ft]\n",
    "    npsh_a = h_i - h_v                  # Net Positive Suction Head (available) [ft]\n",
    "    return rho, h_v, mdot, q, h_p, npsh_a\n",
    "\n",
    "print(\"mass flow rate\")\n",
    "print(\"%.3f\" % freedom_units(ipa)[2], \"lbm/s (IPA)\")\n",
    "print(\"%.3f\" % freedom_units(lox)[2], \"lbm/s (LOX)\", \"\\n\")\n",
    "print(\"volumetric flow rate\")\n",
    "print(\"%.4f\" % freedom_units(ipa)[3], \"ft^3/s (IPA)\")\n",
    "print(\"%.4f\" % freedom_units(lox)[3], \"ft^3/s (LOX)\", \"\\n\")\n",
    "print(\"required pressure head\")\n",
    "print(\"%.3f\" % freedom_units(ipa)[4], \"ft (IPA)\")\n",
    "print(\"%.3f\" % freedom_units(lox)[4], \"ft (LOX)\", \"\\n\")\n",
    "print(\"Net Positive Suction Head Available\")\n",
    "print(\"%.3f\" % freedom_units(ipa)[5], \"ft (IPA)\")\n",
    "print(\"%.3f\" % freedom_units(lox)[5], \"ft (LOX)\")"
   ]
  },
  {
   "cell_type": "markdown",
   "metadata": {},
   "source": [
    "A brief vendor search shows that there are no COTS pump solutions that even remotely approach satisfying our requirements with reasonable weights and pricepoints. On possibility is to accept a lower chamber pressure, or to jack up the pressure at the pump inlet by pressurizing the propellant tanks. This has the advantage of making the required pump head more reasonable, and should additionally help supress cavitation within the pump. The disadvantage is that it goes against the original point of using pumps especially to enable thin and lightwight propellant tanks. "
   ]
  },
  {
   "cell_type": "markdown",
   "metadata": {},
   "source": [
    "## Design Outputs\n",
    "Given the requirements and the design inputs there are six basic steps needed to size a pump.\n",
    "\n",
    "1. Determine the number of stages.\n",
    "2. Determine the pump rotational speed.\n",
    "3. Determine the pump impeller tip speeds.\n",
    "4. Determine the pump impeller entrance and exit tip diameters\n",
    "5. Determine pump efficiency\n",
    "6. Determine the shaft power required to drive the pump.\n",
    "\n",
    "\n",
    "## Determine Number of Stages\n",
    "The number of stages is generally either determined by the next largest integer value greater than the ratio of the pump-pressure rise to the maximum allowable stage-pressure rise, or by $NPSH_{required}$. If a centrifugal pump is used the approximate limits on stage-pressure rise is  47MPa for LOX and ethanol (citation needed). At 47 MPa impeller tips become so thick that they restrict flow passages and develop large k-losses. We determine the number of stages from a simple rule of thumb\n",
    "\n",
    "$$ \\label{eqn:1}\n",
    "n \\geq \\frac{\\Delta p_p}{\\Delta p_s}\n",
    "$$\n",
    "\n",
    "where $\\Delta p_p$ is the required pressure rise and we assume $\\Delta p_s$ to be 47MPa."
   ]
  },
  {
   "cell_type": "code",
   "execution_count": 41,
   "metadata": {
    "collapsed": false
   },
   "outputs": [
    {
     "name": "stdout",
     "output_type": "stream",
     "text": [
      "number of stages\n",
      "1\n"
     ]
    }
   ],
   "source": [
    "# number of stages\n",
    "\n",
    "delta_p_s = 47.0E6 * 0.000145038         # estimated allowable pressure rise per stage [Pa]\n",
    "n = int(m.ceil(delta_p/delta_p_s))     # number of stages\n",
    "\n",
    "print(\"number of stages\")\n",
    "print(n)"
   ]
  },
  {
   "cell_type": "markdown",
   "metadata": {},
   "source": [
    "## Determine Pump Rotational Speed\n",
    "The next step is to estimate the impeller-tip speeds, rotational speed, and finally impeller sizes. Impeller tip speed is given by\n",
    "\n",
    "$$\n",
    "u_t = \\psi \\sqrt{\\frac{2 g_0 H_p}{n}}\n",
    "$$\n",
    "\n",
    "where $\\psi$ is the pump-stage head coefficient which we can assume to have a numerical value of between 0.4 and 1.5 (citation needed). As mentioned previously we want the highest rotational speed to get the lowest pump mass and highest performance, however there are practical constraints on things such as bearings. If there is no boost stage and and if there is a definite NPSH limit the pump rotational speed in $rad/s$ can be determined by \n",
    "\n",
    "$$\n",
    "N_r = \\frac{u_{ss}NPSH^{0.75}}{\\sqrt{Q}}\n",
    "$$\n",
    "\n",
    "Suction-specific speed, $u_{ss}$, indicates the minimum net positive suction head (NPSH, inlet pressurization above the vapor pressure expressed in meters) at which a pump operating at rotational speed $N$, and volume flow rate $Q$, can operate without cavitation effects. $u_{ss}$ values fall between 5000 and 50,000 depending on efficiency of the pump with 7000 to 12,000 being typical. Lower numbers are more conservative. A large suction-specific speed indicates an ability to operate at low inlet pressures. Large values are obtained by using large diameters for the pump-inlet tip and small diameters for the inlet hub such that the inlet axial velocity head is minimized. Additionally thin, gradually curved blades with sharp leading edges produce the minimum static pressure gradients on the blade surfaces. Inducers have both features, and are therefore widely used in pumping applications on rocket engines. The important thing is that the $NPSH_{available}$ must be higher than $NPSH_{required}$ to avoid cavitation. $NPSH_{required}$ is determined on a pump by pump basis. This places the upper limit on impeller specific speed. If additional head is required by the pump  the propellant needs to be pre-pressurized before reaching the pump impeller, such as with the aformentioned inducer, or with additional pump stages (e.g. 'booster' stages), or by pressurizing the propellant tank. As a historical note the German V-2 oxygen tank was pressurized to 2.3 atm (autogenuously) largely to suppress pump cavitation.\n",
    "\n",
    "$$\n",
    "N_s = \\frac{N_r Q^{\\frac{1}{2}}}{\\left(\\frac{H_p}{n}\\right)^{\\frac{3}{4}}}\n",
    "$$\n",
    "\n",
    "$N_s$ is the stage-specific speed where $N_r$ is the pump's rotational speed and $n$ is the number of stages. Stage specific speed, $N_s$, is a parameter that characterizes geometrically and hydrodynamically similar pumps. Centrifugal pumps are generally low-capacity/high-head devices and thus are at the low specific speed side of the spectrum. Each class of pump (radial, francis, mixed, axial) lends itself to a particular range of specific speeds.\n"
   ]
  },
  {
   "cell_type": "code",
   "execution_count": 42,
   "metadata": {
    "collapsed": false
   },
   "outputs": [
    {
     "data": {
      "image/png": "[encoded data removed]",
      "text/plain": [
       "<IPython.core.display.Image object>"
      ]
     },
     "execution_count": 42,
     "metadata": {},
     "output_type": "execute_result"
    }
   ],
   "source": [
    "#figure from Munson\n",
    "from IPython.display import Image\n",
    "Image(filename='specific_speed.PNG') "
   ]
  },
  {
   "cell_type": "code",
   "execution_count": 43,
   "metadata": {
    "collapsed": false,
    "scrolled": true
   },
   "outputs": [
    {
     "name": "stdout",
     "output_type": "stream",
     "text": [
      "impeller tip speed\n",
      "265.05 ft/s (IPA)\n",
      "220.41 ft/s (LOX) \n",
      "\n",
      "pump rotational speed\n",
      "26682.16 RPM (IPA)\n",
      "13110.96 RPM (LOX) \n",
      "\n",
      "pump specific speed\n",
      "598.40 (IPA)\n",
      "367.64 (LOX)\n"
     ]
    }
   ],
   "source": [
    "# pump rotational speed\n",
    "\n",
    "def pump_speed(prop):\n",
    "    psi = 1                                         # pump stage head coefficient (estimated)\n",
    "    u_t = psi * m.sqrt(2 * g_0 * freedom_units(prop)[4])               # impeller vane tip speed [ft/s]\n",
    "    u_ss = 7000                                  # suction specific speed\n",
    "    npsh_r = freedom_units(prop)[5] * 0.5\n",
    "    n_r = (u_ss * npsh_r**0.75)/(21.2 * m.sqrt(freedom_units(prop)[3]))  # pump rotational speed [RPM]\n",
    "    n_r_rad = n_r * 2 * m.pi / 60\n",
    "    n_s = (21.2 * n_r * m.sqrt(freedom_units(prop)[3]))/(freedom_units(prop)[4] / n)**0.75   # pump specific speed\n",
    "    return u_t, n_r, n_s, n_r_rad\n",
    "\n",
    "print(\"impeller tip speed\")\n",
    "print(\"%.2f\" % pump_speed(ipa)[0], \"ft/s (IPA)\")\n",
    "print(\"%.2f\" % pump_speed(lox)[0], \"ft/s (LOX)\", \"\\n\")\n",
    "print(\"pump rotational speed\")\n",
    "print(\"%.2f\" % pump_speed(ipa)[1], \"RPM (IPA)\")\n",
    "print(\"%.2f\" % pump_speed(lox)[1], \"RPM (LOX)\", \"\\n\")\n",
    "print(\"pump specific speed\")\n",
    "print(\"%.2f\" % pump_speed(ipa)[2], \"(IPA)\")\n",
    "print(\"%.2f\" % pump_speed(lox)[2], \"(LOX)\")"
   ]
  },
  {
   "cell_type": "markdown",
   "metadata": {},
   "source": [
    "It should be noted that the combination of flowrate, pressure rise and fluid density togeather with the allowable range of speeds places the pump in the very low end of the specific speed range, where the predicted maximum attainable efficicency for several types of centrifugal pumps are below those of positive displacement type pumps. It is not likely that an efficiency beter than 50% is attainable; as such several stages may be required for the desired capacity. Positive dispalcement type pumps may offer improved efficiency at the cost of less steady flow, noise, and much poorer reliability.\n",
    "\n",
    "Additionally, it's difficult to extrapolate pump efficiencies availabile in literature to such small high-head pumps, as the implicit assumption of geometric and hydrodynamic similarity may well be broken."
   ]
  },
  {
   "cell_type": "markdown",
   "metadata": {},
   "source": [
    "## Impeller Diameters\n",
    "Knowing the rotational speed, we can get the  impeller diameters using\n",
    "\n",
    "$$ \\label{eqn:5}\n",
    "D_o = \\frac{u_t}{N_r}\n",
    "$$\n",
    "$$ \\label{eqn:6}\n",
    "D_i = \\left( \\frac{4Q}{\\pi \\phi N_r(1 - L^2)} \\right)^{1/3}\n",
    "$$\n",
    "\n",
    "Where $D_o$ is the diameter of the impeller outlet ($m$), also called the discharge, $D_i$ is the diameter of the impeller inlet ($m$), $L$ is the ratio of the hub diameter to the tip diameter, and $\\phi$ is the inducer-inlet flow coefficient. Minimizing the factors $\\phi$ and $L$ minimizes the NPSH required by the pump. The inducer-inlet flow coefficient, $\\phi$, is the tangent of the flow angle approaching the inducers blade tip. It is one of the main design parameters used to maximize suction performance. Generally, lower values are better. Assume 0.1 if using inducer, otherwise use 1."
   ]
  },
  {
   "cell_type": "code",
   "execution_count": 44,
   "metadata": {
    "collapsed": false
   },
   "outputs": [
    {
     "name": "stdout",
     "output_type": "stream",
     "text": [
      "impeller discharge diameter\n",
      "2.277 in (IPA)\n",
      "3.853 in (LOX) \n",
      "\n",
      "impeller inlet diameter\n",
      "0.3268 in (IPA)\n",
      "0.3996 in (LOX)\n"
     ]
    }
   ],
   "source": [
    "# impeller diameters\n",
    "\n",
    "def diameters(prop):\n",
    "    l = 0.3                                                        # hub to tip diameter ratio (assume 0.3)\n",
    "    phi = 1                                                        # inducer flow coefficicent (assume 0.1 with inducer, 1.0 otherwise)\n",
    "    d_o = pump_speed(prop)[0] * 2 / pump_speed(prop)[3] * 12       # impeller outer diameter [in]\n",
    "    d_i = (4 * freedom_units(prop)[3]/(m.pi * phi * pump_speed(prop)[3] * (1 - l**2)))**(1/3) * 12  # impeller inner diameter [in]\n",
    "    return d_o, d_i\n",
    "\n",
    "print(\"impeller discharge diameter\")\n",
    "print(\"%.3f\" % diameters(ipa)[0], \"in (IPA)\")\n",
    "print(\"%.3f\" % diameters(lox)[0], \"in (LOX)\", \"\\n\")\n",
    "print(\"impeller inlet diameter\")\n",
    "print(\"%.4f\" % diameters(ipa)[1], \"in (IPA)\")\n",
    "print(\"%.4f\" % diameters(lox)[1], \"in (LOX)\")\n"
   ]
  },
  {
   "cell_type": "markdown",
   "metadata": {},
   "source": [
    "## Shaft Power\n",
    "The required shaft power can be determined from\n",
    "\n",
    "$$ \\label{eqn:7}\n",
    "P_{req} = \\frac{g_0 \\dot{m} H_p}{\\eta_p}\n",
    "$$\n",
    "\n",
    "where $\\eta_p$ is the pump efficiency and can be determined from the stage-specific speed and tabulated efficiency data."
   ]
  },
  {
   "cell_type": "code",
   "execution_count": 45,
   "metadata": {
    "collapsed": false,
    "scrolled": false
   },
   "outputs": [
    {
     "name": "stdout",
     "output_type": "stream",
     "text": [
      "pump efficiency\n",
      "59.92 % (IPA)\n",
      "55.00 % (LOX) \n",
      "\n",
      "required shaft power (optimistic)\n",
      "4899.04 W (IPA)\n",
      "4797.93 W (LOX) \n",
      "\n",
      "required shaft power (realistic)\n",
      "5337.27 W (IPA)\n",
      "4797.93 W (LOX) \n",
      "\n",
      "full load torque\n",
      "1.75 kN*m (IPA)\n",
      "3.49 kN*m (LOX)\n"
     ]
    }
   ],
   "source": [
    "# shaft power\n",
    "\n",
    "from numpy import interp\n",
    "\n",
    "#from a table of efficiencies for radial impellers found in Munson et. al., 2009 \n",
    "def effic(n_s):\n",
    "    eta_t = [0.55, 0.80, 0.83, 0.85, 0.84, 0.82]\n",
    "    n_s_t = [500, 1000, 1500, 2000, 2500, 3000]\n",
    "    eta = interp(n_s, n_s_t, eta_t)\n",
    "    return eta\n",
    "\n",
    "eff = 0.4 # a more realistic estimated efficiency\n",
    "def power(mdot, h_p, n_s):  # required shaft power [W]\n",
    "    p_req = mdot * h_p/(effic(n_s) * 0.738)\n",
    "    return p_req\n",
    "\n",
    "def torque(prop):\n",
    "    T = 30*power(freedom_units(prop)[2], freedom_units(prop)[4], pump_speed(prop)[2])/(m.pi*pump_speed(prop)[1])\n",
    "    return T\n",
    "\n",
    "print(\"pump efficiency\")\n",
    "print(\"%.2f\" % float(100*effic(pump_speed(ipa)[2])), \"% (IPA)\")\n",
    "print(\"%.2f\" % float(100*effic(pump_speed(lox)[2])), \"% (LOX)\", \"\\n\")\n",
    "print(\"required shaft power (optimistic)\")\n",
    "print(\"%.2f\" % power(freedom_units(ipa)[2], freedom_units(ipa)[4], pump_speed(ipa)[2]), \"W (IPA)\")\n",
    "print(\"%.2f\" % power(freedom_units(lox)[2], freedom_units(lox)[4], pump_speed(lox)[2]), \"W (LOX)\", \"\\n\")\n",
    "print(\"required shaft power (realistic)\")\n",
    "print(\"%.2f\" % power(freedom_units(ipa)[2], freedom_units(ipa)[4], eff), \"W (IPA)\")\n",
    "print(\"%.2f\" % power(freedom_units(lox)[2], freedom_units(lox)[4], eff), \"W (LOX)\", \"\\n\")\n",
    "print(\"full load torque\")\n",
    "print(\"%.2f\" % torque(ipa), \"kN*m (IPA)\")\n",
    "print(\"%.2f\" % torque(lox), \"kN*m (LOX)\")"
   ]
  },
  {
   "cell_type": "markdown",
   "metadata": {
    "collapsed": true
   },
   "source": [
    "It should be noted that 62% is very optimistic for any hombrew pump volute/inducer/impeller combination. We should count ourselves lucky if we hit 40% efficient."
   ]
  },
  {
   "cell_type": "code",
   "execution_count": 46,
   "metadata": {
    "collapsed": false
   },
   "outputs": [
    {
     "name": "stdout",
     "output_type": "stream",
     "text": [
      "Total stored energy\n",
      "266.86 kJ (IPA)\n",
      "239.90 kJ (LOX)\n"
     ]
    }
   ],
   "source": [
    "f_t = 50                                              #engine run time [s]\n",
    "print(\"Total stored energy\")\n",
    "print(\"%.2f\" % float(power(freedom_units(ipa)[2], freedom_units(ipa)[4], eff)*f_t/1000), \"kJ (IPA)\")  #Total stored energy [kJ]\n",
    "print(\"%.2f\" % float(power(freedom_units(lox)[2], freedom_units(lox)[4], eff)*f_t/1000), \"kJ (LOX)\")  #Total stored energy [kJ]\n",
    "#changed for illustrative purposes"
   ]
  },
  {
   "cell_type": "markdown",
   "metadata": {},
   "source": [
    "## Final Notes\n",
    "This approach to pump sizing is not the one reccomended by Huzel and Huang. Their approach seems to assume an an inducer is normally used, and that the rated head capacity requirements are determiend from the engine system design criteria (as in our analysis). The first step in their procedure is to choose a suction speed and inducer design that will yeild the highest possible pump rotational speed at the design conditions. Following from that the speicific speed can be determined and the impeller designed by finding an appropriate \"design model\" and using pump affinity laws to fit it to size. "
   ]
  },
  {
   "cell_type": "code",
   "execution_count": null,
   "metadata": {
    "collapsed": true
   },
   "outputs": [],
   "source": []
  }
 ],
 "metadata": {
  "kernelspec": {
   "display_name": "Python 3",
   "language": "python",
   "name": "python3"
  },
  "language_info": {
   "codemirror_mode": {
    "name": "ipython",
    "version": 3
   },
   "file_extension": ".py",
   "mimetype": "text/x-python",
   "name": "python",
   "nbconvert_exporter": "python",
   "pygments_lexer": "ipython3",
   "version": "3.4.2"
  }
 },
 "nbformat": 4,
 "nbformat_minor": 0
}
